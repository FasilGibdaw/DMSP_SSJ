{
 "cells": [
  {
   "cell_type": "code",
   "execution_count": null,
   "metadata": {},
   "outputs": [],
   "source": [
    "import matplotlib.pyplot as plt\n",
    "import matplotlib.path as mpath\n",
    "import cartopy.feature as cfeature\n",
    "import cartopy.crs as ccrs\n",
    "from datetime import datetime\n",
    "from matplotlib.pyplot import text\n",
    "import pandas as pd\n",
    "import cdflib\n",
    "import numpy as np\n",
    "import glob\n",
    "import requests\n",
    "import warnings\n",
    "import matplotlib.ticker as mticker\n",
    "fname = 'dmsp-f18_ssj_precipitating-electrons-ions_20120101_v1.1.1.cdf'\n",
    "cdf_file = cdflib.CDF(fname)"
   ]
  },
  {
   "cell_type": "code",
   "execution_count": null,
   "metadata": {},
   "outputs": [],
   "source": [
    "import warnings\n",
    "warnings.filterwarnings(\"ignore\")\n",
    "data_variables=cdf_file.cdf_info()['zVariables']\n",
    "data_vars=[]\n",
    "df=pd.DataFrame()\n",
    "for variable in data_variables:\n",
    "    if cdf_file.varget(variable).ndim !=1:\n",
    "        Data=cdf_file.varget(variable)\n",
    "        _,c=Data.shape\n",
    "        for i in range(c):\n",
    "            df[variable +str(i)] = pd.DataFrame(Data[:,i])\n",
    "            data_vars.append(variable +str(i))  \n",
    "    else:\n",
    "        df[variable]=pd.DataFrame(cdf_file.varget(variable))\n",
    "        data_vars.append(variable)"
   ]
  },
  {
   "cell_type": "code",
   "execution_count": null,
   "metadata": {},
   "outputs": [],
   "source": [
    "## collecting the right columns for averaging here only variable anmes start with ELE and ION\n",
    "ix=[item.startswith('ELE') for item in data_vars]\n",
    "a=list(np.array(data_vars)[ix])\n",
    "ix=[item.startswith('ION') for item in data_vars]\n",
    "b=list(np.array(data_vars)[ix])\n",
    "aa=a+b"
   ]
  },
  {
   "cell_type": "code",
   "execution_count": null,
   "metadata": {},
   "outputs": [],
   "source": [
    "ix = df['SC_AACGM_LAT']>40 # Northern hemsiphere\n",
    "df_NH=df[ix]\n",
    "df_NH=df_NH.round()\n",
    " \n",
    "f=df_NH.groupby([\"SC_AACGM_LTIME\", \"SC_AACGM_LAT\"])[aa].apply(lambda g: g.mean(skipna=True))\n",
    "f=f.reset_index()"
   ]
  },
  {
   "cell_type": "code",
   "execution_count": null,
   "metadata": {},
   "outputs": [],
   "source": [
    "import numpy as np\n",
    "import matplotlib.pyplot as plt\n",
    "import cartopy.crs as ccrs\n",
    "import cartopy.feature as cfeature\n",
    "\n",
    "# Define the grid parameters\n",
    "\n",
    "\n",
    "# Generate a random dataset to grid\n",
    "lon = df['SC_AACGM_LON'].values\n",
    "lat = f['SC_AACGM_LAT'].values\n",
    "data = df[\"ELE_DIFF_ENERGY_FLUX8\"]\n",
    "\n",
    "lon_range = (lon.min(), lon.max())  # Longitude range\n",
    "lat_range = (lat.min(), lat.max())  # Latitude range\n",
    "grid_size = 0.1  # Grid size in degrees\n",
    "\n",
    "# Define the grid arrays\n",
    "lon_grid = np.arange(lon_range[0], lon_range[1] + grid_size, grid_size)\n",
    "lat_grid = np.arange(lat_range[0], lat_range[1] + grid_size, grid_size)\n",
    "lon_grid, lat_grid = np.meshgrid(lon_grid, lat_grid)\n",
    "\n",
    "\n",
    "# Grid the data using bilinear interpolation\n",
    "from scipy.interpolate import griddata\n",
    "data_grid = griddata((lon, lat), data, (lon_grid, lat_grid), method='linear')\n",
    "\n",
    "proj = ccrs.Stereographic(central_longitude=0, central_latitude=90)\n",
    "\n",
    "# Convert the gridded data to polar coordinates\n",
    "theta = np.radians(lon_grid)\n",
    "r = 90 - lat_grid\n",
    "data_grid_polar = data_grid\n",
    "\n",
    "# Plot the gridded data in a polar plot\n",
    "fig = plt.figure(figsize=(8, 8))\n",
    "ax = fig.add_subplot(1, 1, 1, projection='polar')\n",
    "ax.set_theta_zero_location('N')\n",
    "ax.set_theta_direction(-1)\n",
    "ax.set_rlim([0, 50])\n",
    "cax = ax.contourf(theta, r, data_grid_polar, cmap='jet')\n",
    "cb = fig.colorbar(cax, orientation='horizontal', pad=0.05)\n",
    "cb.set_label('Data')\n",
    "plt.show()"
   ]
  },
  {
   "cell_type": "code",
   "execution_count": null,
   "metadata": {},
   "outputs": [],
   "source": [
    "df"
   ]
  },
  {
   "cell_type": "code",
   "execution_count": null,
   "metadata": {},
   "outputs": [],
   "source": [
    "## dmsp_grid\n",
    "lati = np.arange(f[\"SC_AACGM_LAT\"].min(), f[\"SC_AACGM_LAT\"].max()+1)\n",
    "tt = np.arange(f[\"SC_AACGM_LTIME\"].min(), f[\"SC_AACGM_LTIME\"].max()+1)\n",
    "x, y = np.meshgrid(tt, lati)\n",
    "\n",
    "mlt = f[\"SC_AACGM_LTIME\"]\n",
    "latitude = f[\"SC_AACGM_LAT\"]\n",
    "ch=8\n",
    "ePrep = f[\"ELE_DIFF_ENERGY_FLUX\"+str(ch)]\n",
    "iPrep = f[\"ION_DIFF_ENERGY_FLUX\"+str(ch)]\n",
    "egrided_data = np.nan*(np.ones(x.shape))\n",
    "igrided_data = np.nan*(np.ones(x.shape))\n",
    "\n",
    "for i in range(len(x[0, :])):\n",
    "    ii = np.where(np.in1d(mlt.values, x[0, i]))\n",
    "    # np.array(latitude[ii[0]])\n",
    "    mm = np.where(np.in1d(y[:, 0], np.array(latitude[ii[0]])))\n",
    "    egrided_data[mm, i] = ePrep[ii[0]]\n",
    "    igrided_data[mm, i] = iPrep[ii[0]]\n",
    "    \n",
    "from dmsp_reader import dmsp_polar_plot\n",
    "a=dmsp_polar_plot(x,y,egrided_data, igrided_data, ch=ch, savefig=False)"
   ]
  },
  {
   "cell_type": "code",
   "execution_count": null,
   "metadata": {},
   "outputs": [],
   "source": []
  },
  {
   "cell_type": "code",
   "execution_count": null,
   "metadata": {},
   "outputs": [],
   "source": []
  }
 ],
 "metadata": {
  "kernelspec": {
   "display_name": "base",
   "language": "python",
   "name": "python3"
  },
  "language_info": {
   "codemirror_mode": {
    "name": "ipython",
    "version": 3
   },
   "file_extension": ".py",
   "mimetype": "text/x-python",
   "name": "python",
   "nbconvert_exporter": "python",
   "pygments_lexer": "ipython3",
   "version": "3.9.13"
  },
  "orig_nbformat": 4,
  "vscode": {
   "interpreter": {
    "hash": "fd227c13c8a043b6d54abd362ddfe72f16b2277322e6c5320db5d1f5f25def04"
   }
  }
 },
 "nbformat": 4,
 "nbformat_minor": 2
}
